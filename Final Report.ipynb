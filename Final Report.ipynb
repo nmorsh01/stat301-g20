{
 "cells": [
  {
   "cell_type": "markdown",
   "id": "ee634c19-680b-4ca2-8363-eabfd44c0dd8",
   "metadata": {},
   "source": [
    "# STAT301 Final Project - Group 20\n",
    "\n",
    "## Introduction\n",
    "Our global economy drives and depends on functioning companies all around the world, and the characteristics that all organizations have in common are their need and value of their workforce. Employees are one of the most valuable assets and retaining quantity and quality of employees are crucial in running a dependable organization (Negi et. Al, 2013). The failure to do so is called employee attrition, which is a costly challenge faced by many employers around the world. The latter however, is inevitable and managing it is a challenge. Understanding reasons or predictors that could explain employee attrition would provide managers with areas to focus and improve on in the future to improve employee retention (Frye et. Al, 2018). "
   ]
  },
  {
   "cell_type": "markdown",
   "id": "9e717a82-5d55-44ea-ac1f-145cd48c9d06",
   "metadata": {},
   "source": [
    "## Dataset Description\n",
    "The dataset chosen: HR Analytics (Konapure & Uikey, 2023) containing 35 different employee factors and characteristics that can be analyzed to understand and interpret organizational data, detecting possible trends and patterns which can be generalized and implemented by companies to assist attrition management. \n",
    "\n",
    "**Brief Summary of Entire Dataset**\n",
    "\n",
    "|Continuous Data|Nominal Data|Ordinal Data|Binary Data|  \n",
    "|----------------|------------|------------|---------|\n",
    "|Age           | Employee ID | Frequency of Business Travel | Employee Attrition|\n",
    "|Daily Wage | Department | Education Level | Over 18|\n",
    "|Distance to Office | Field of Qualification | Enviromental Satsifcation | Worked Overtime|\n",
    "|Hourly Rate | Gender | Job Involvement |\n",
    "|Monthly Income | Marital Status | Job Level |\n",
    "|Monthly Rate | Job Role | Job Satisfaction \n",
    "|Number of Companies Worked | | Performance Rating \n",
    "|Percentage Salary Hike | | Relationship Satisfaction \n",
    "|Standard Hours | | Stock Option Level \n",
    "|Total Working Years| | Work Life Balance\n",
    "|Training Time |\n",
    "|Years at Company |\n",
    "|Years in Current Role |\n",
    "|Years Since Last Position \n",
    "|Years with Current Manager"
   ]
  },
  {
   "cell_type": "markdown",
   "id": "e6842504-90a7-4870-ab8d-84dc6d1d9768",
   "metadata": {},
   "source": [
    "## Research Question\n",
    "In our report, we aim to answer the question: **“How can we predict when employees are going to leave?”**\n",
    "\n",
    "“How can we predict when employees are going to leave? (attrition = 1)” (N)\n",
    "* Modifying logistic regression to prefer attrition = 1, mention how there’s an imbalance in the response classes\n",
    "* Discuss how employees departing the company will be a minority (often) of individuals, however we need to design a model using all employee data that can be used to predict the small number of employees that are leaving\n",
    "\n",
    "“How can we understand what variables are contributing to employee attrition?”\n",
    "* Using post-lasso to be able to conduct inference\n",
    "* Idea: splitting data into 3; training-postlasso-test\n"
   ]
  }
 ],
 "metadata": {
  "kernelspec": {
   "display_name": "R",
   "language": "R",
   "name": "ir"
  },
  "language_info": {
   "codemirror_mode": "r",
   "file_extension": ".r",
   "mimetype": "text/x-r-source",
   "name": "R",
   "pygments_lexer": "r",
   "version": "4.3.3"
  }
 },
 "nbformat": 4,
 "nbformat_minor": 5
}
